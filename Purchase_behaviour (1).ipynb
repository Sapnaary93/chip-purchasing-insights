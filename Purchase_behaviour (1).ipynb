{
 "cells": [
  {
   "cell_type": "markdown",
   "id": "aecb2339-89b6-46d6-badb-3f07ce784001",
   "metadata": {},
   "source": [
    "# 🛒 Chip Purchase Behavior Analysis\n",
    "### Strategic Insights for Category Management | Python + Pandas Case Study"
   ]
  },
  {
   "cell_type": "markdown",
   "id": "e6e50839-0a2b-4626-b2f5-57495441ee7d",
   "metadata": {},
   "source": [
    "## Step 1:Import important libraries"
   ]
  },
  {
   "cell_type": "code",
   "execution_count": 117,
   "id": "87403ba1-be0a-42fd-a536-c405e54eca16",
   "metadata": {},
   "outputs": [],
   "source": [
    "import pandas as pd \n",
    "import numpy as np\n",
    "import matplotlib.pyplot as plt\n",
    "import seaborn as sns\n",
    "import warnings \n",
    "warnings.filterwarnings('ignore')\n",
    "\n"
   ]
  },
  {
   "cell_type": "code",
   "execution_count": 2,
   "id": "314dfbb6-ee63-40d8-a2c3-e147645a45e6",
   "metadata": {},
   "outputs": [
    {
     "data": {
      "text/html": [
       "<div>\n",
       "<style scoped>\n",
       "    .dataframe tbody tr th:only-of-type {\n",
       "        vertical-align: middle;\n",
       "    }\n",
       "\n",
       "    .dataframe tbody tr th {\n",
       "        vertical-align: top;\n",
       "    }\n",
       "\n",
       "    .dataframe thead th {\n",
       "        text-align: right;\n",
       "    }\n",
       "</style>\n",
       "<table border=\"1\" class=\"dataframe\">\n",
       "  <thead>\n",
       "    <tr style=\"text-align: right;\">\n",
       "      <th></th>\n",
       "      <th>DATE</th>\n",
       "      <th>STORE_NBR</th>\n",
       "      <th>LYLTY_CARD_NBR</th>\n",
       "      <th>TXN_ID</th>\n",
       "      <th>PROD_NBR</th>\n",
       "      <th>PROD_NAME</th>\n",
       "      <th>PROD_QTY</th>\n",
       "      <th>TOT_SALES</th>\n",
       "    </tr>\n",
       "  </thead>\n",
       "  <tbody>\n",
       "    <tr>\n",
       "      <th>0</th>\n",
       "      <td>43390</td>\n",
       "      <td>1</td>\n",
       "      <td>1000</td>\n",
       "      <td>1</td>\n",
       "      <td>5</td>\n",
       "      <td>Natural Chip        Compny SeaSalt175g</td>\n",
       "      <td>2</td>\n",
       "      <td>6.0</td>\n",
       "    </tr>\n",
       "    <tr>\n",
       "      <th>1</th>\n",
       "      <td>43599</td>\n",
       "      <td>1</td>\n",
       "      <td>1307</td>\n",
       "      <td>348</td>\n",
       "      <td>66</td>\n",
       "      <td>CCs Nacho Cheese    175g</td>\n",
       "      <td>3</td>\n",
       "      <td>6.3</td>\n",
       "    </tr>\n",
       "    <tr>\n",
       "      <th>2</th>\n",
       "      <td>43605</td>\n",
       "      <td>1</td>\n",
       "      <td>1343</td>\n",
       "      <td>383</td>\n",
       "      <td>61</td>\n",
       "      <td>Smiths Crinkle Cut  Chips Chicken 170g</td>\n",
       "      <td>2</td>\n",
       "      <td>2.9</td>\n",
       "    </tr>\n",
       "    <tr>\n",
       "      <th>3</th>\n",
       "      <td>43329</td>\n",
       "      <td>2</td>\n",
       "      <td>2373</td>\n",
       "      <td>974</td>\n",
       "      <td>69</td>\n",
       "      <td>Smiths Chip Thinly  S/Cream&amp;Onion 175g</td>\n",
       "      <td>5</td>\n",
       "      <td>15.0</td>\n",
       "    </tr>\n",
       "    <tr>\n",
       "      <th>4</th>\n",
       "      <td>43330</td>\n",
       "      <td>2</td>\n",
       "      <td>2426</td>\n",
       "      <td>1038</td>\n",
       "      <td>108</td>\n",
       "      <td>Kettle Tortilla ChpsHny&amp;Jlpno Chili 150g</td>\n",
       "      <td>3</td>\n",
       "      <td>13.8</td>\n",
       "    </tr>\n",
       "  </tbody>\n",
       "</table>\n",
       "</div>"
      ],
      "text/plain": [
       "    DATE  STORE_NBR  LYLTY_CARD_NBR  TXN_ID  PROD_NBR  \\\n",
       "0  43390          1            1000       1         5   \n",
       "1  43599          1            1307     348        66   \n",
       "2  43605          1            1343     383        61   \n",
       "3  43329          2            2373     974        69   \n",
       "4  43330          2            2426    1038       108   \n",
       "\n",
       "                                  PROD_NAME  PROD_QTY  TOT_SALES  \n",
       "0    Natural Chip        Compny SeaSalt175g         2        6.0  \n",
       "1                  CCs Nacho Cheese    175g         3        6.3  \n",
       "2    Smiths Crinkle Cut  Chips Chicken 170g         2        2.9  \n",
       "3    Smiths Chip Thinly  S/Cream&Onion 175g         5       15.0  \n",
       "4  Kettle Tortilla ChpsHny&Jlpno Chili 150g         3       13.8  "
      ]
     },
     "execution_count": 2,
     "metadata": {},
     "output_type": "execute_result"
    }
   ],
   "source": [
    "tran_data=pd.read_csv(r\"C:\\Users\\Sapana pal\\Desktop\\QVI_transaction_data.csv\")\n",
    "tran_data.head()"
   ]
  },
  {
   "cell_type": "code",
   "execution_count": 3,
   "id": "738657d5-1989-416b-bf11-69b91b5cc1a9",
   "metadata": {},
   "outputs": [
    {
     "data": {
      "text/html": [
       "<div>\n",
       "<style scoped>\n",
       "    .dataframe tbody tr th:only-of-type {\n",
       "        vertical-align: middle;\n",
       "    }\n",
       "\n",
       "    .dataframe tbody tr th {\n",
       "        vertical-align: top;\n",
       "    }\n",
       "\n",
       "    .dataframe thead th {\n",
       "        text-align: right;\n",
       "    }\n",
       "</style>\n",
       "<table border=\"1\" class=\"dataframe\">\n",
       "  <thead>\n",
       "    <tr style=\"text-align: right;\">\n",
       "      <th></th>\n",
       "      <th>LYLTY_CARD_NBR</th>\n",
       "      <th>LIFESTAGE</th>\n",
       "      <th>PREMIUM_CUSTOMER</th>\n",
       "    </tr>\n",
       "  </thead>\n",
       "  <tbody>\n",
       "    <tr>\n",
       "      <th>0</th>\n",
       "      <td>1000</td>\n",
       "      <td>YOUNG SINGLES/COUPLES</td>\n",
       "      <td>Premium</td>\n",
       "    </tr>\n",
       "    <tr>\n",
       "      <th>1</th>\n",
       "      <td>1002</td>\n",
       "      <td>YOUNG SINGLES/COUPLES</td>\n",
       "      <td>Mainstream</td>\n",
       "    </tr>\n",
       "    <tr>\n",
       "      <th>2</th>\n",
       "      <td>1003</td>\n",
       "      <td>YOUNG FAMILIES</td>\n",
       "      <td>Budget</td>\n",
       "    </tr>\n",
       "    <tr>\n",
       "      <th>3</th>\n",
       "      <td>1004</td>\n",
       "      <td>OLDER SINGLES/COUPLES</td>\n",
       "      <td>Mainstream</td>\n",
       "    </tr>\n",
       "    <tr>\n",
       "      <th>4</th>\n",
       "      <td>1005</td>\n",
       "      <td>MIDAGE SINGLES/COUPLES</td>\n",
       "      <td>Mainstream</td>\n",
       "    </tr>\n",
       "  </tbody>\n",
       "</table>\n",
       "</div>"
      ],
      "text/plain": [
       "   LYLTY_CARD_NBR               LIFESTAGE PREMIUM_CUSTOMER\n",
       "0            1000   YOUNG SINGLES/COUPLES          Premium\n",
       "1            1002   YOUNG SINGLES/COUPLES       Mainstream\n",
       "2            1003          YOUNG FAMILIES           Budget\n",
       "3            1004   OLDER SINGLES/COUPLES       Mainstream\n",
       "4            1005  MIDAGE SINGLES/COUPLES       Mainstream"
      ]
     },
     "execution_count": 3,
     "metadata": {},
     "output_type": "execute_result"
    }
   ],
   "source": [
    "behaviour_data=pd.read_csv(r\"C:\\Users\\Sapana pal\\Downloads\\QVI_purchase_behaviour.csv\")\n",
    "behaviour_data.head()"
   ]
  },
  {
   "cell_type": "markdown",
   "id": "d217990d-96de-42f0-b494-607065689a8c",
   "metadata": {},
   "source": [
    "## 🔍 Step 2: Load and Explore the Dataset"
   ]
  },
  {
   "cell_type": "code",
   "execution_count": 4,
   "id": "aa87d9f6-f42e-411f-8903-ffe8cad51844",
   "metadata": {},
   "outputs": [
    {
     "name": "stdout",
     "output_type": "stream",
     "text": [
      "=== Transaction Data Summary ===\n",
      "(264836, 8)\n",
      "<class 'pandas.core.frame.DataFrame'>\n",
      "RangeIndex: 264836 entries, 0 to 264835\n",
      "Data columns (total 8 columns):\n",
      " #   Column          Non-Null Count   Dtype  \n",
      "---  ------          --------------   -----  \n",
      " 0   DATE            264836 non-null  int64  \n",
      " 1   STORE_NBR       264836 non-null  int64  \n",
      " 2   LYLTY_CARD_NBR  264836 non-null  int64  \n",
      " 3   TXN_ID          264836 non-null  int64  \n",
      " 4   PROD_NBR        264836 non-null  int64  \n",
      " 5   PROD_NAME       264836 non-null  object \n",
      " 6   PROD_QTY        264836 non-null  int64  \n",
      " 7   TOT_SALES       264836 non-null  float64\n",
      "dtypes: float64(1), int64(6), object(1)\n",
      "memory usage: 16.2+ MB\n",
      "None\n",
      "                DATE     STORE_NBR  LYLTY_CARD_NBR        TXN_ID  \\\n",
      "count  264836.000000  264836.00000    2.648360e+05  2.648360e+05   \n",
      "mean    43464.036260     135.08011    1.355495e+05  1.351583e+05   \n",
      "std       105.389282      76.78418    8.057998e+04  7.813303e+04   \n",
      "min     43282.000000       1.00000    1.000000e+03  1.000000e+00   \n",
      "25%     43373.000000      70.00000    7.002100e+04  6.760150e+04   \n",
      "50%     43464.000000     130.00000    1.303575e+05  1.351375e+05   \n",
      "75%     43555.000000     203.00000    2.030942e+05  2.027012e+05   \n",
      "max     43646.000000     272.00000    2.373711e+06  2.415841e+06   \n",
      "\n",
      "            PROD_NBR       PROD_QTY      TOT_SALES  \n",
      "count  264836.000000  264836.000000  264836.000000  \n",
      "mean       56.583157       1.907309       7.304200  \n",
      "std        32.826638       0.643654       3.083226  \n",
      "min         1.000000       1.000000       1.500000  \n",
      "25%        28.000000       2.000000       5.400000  \n",
      "50%        56.000000       2.000000       7.400000  \n",
      "75%        85.000000       2.000000       9.200000  \n",
      "max       114.000000     200.000000     650.000000  \n"
     ]
    }
   ],
   "source": [
    "# High-level summary: Transactions\n",
    "print(\"=== Transaction Data Summary ===\")\n",
    "print(tran_data.shape)\n",
    "print(tran_data.info())\n",
    "print(tran_data.describe())"
   ]
  },
  {
   "cell_type": "code",
   "execution_count": 5,
   "id": "cad4cebb-60a5-49e6-a1e2-0d4f6a8d4ea2",
   "metadata": {},
   "outputs": [
    {
     "name": "stdout",
     "output_type": "stream",
     "text": [
      "=== Purchase Behaviour Data Summary ===\n",
      "(72637, 3)\n",
      "<class 'pandas.core.frame.DataFrame'>\n",
      "RangeIndex: 72637 entries, 0 to 72636\n",
      "Data columns (total 3 columns):\n",
      " #   Column            Non-Null Count  Dtype \n",
      "---  ------            --------------  ----- \n",
      " 0   LYLTY_CARD_NBR    72637 non-null  int64 \n",
      " 1   LIFESTAGE         72637 non-null  object\n",
      " 2   PREMIUM_CUSTOMER  72637 non-null  object\n",
      "dtypes: int64(1), object(2)\n",
      "memory usage: 1.7+ MB\n",
      "None\n",
      "       LYLTY_CARD_NBR\n",
      "count    7.263700e+04\n",
      "mean     1.361859e+05\n",
      "std      8.989293e+04\n",
      "min      1.000000e+03\n",
      "25%      6.620200e+04\n",
      "50%      1.340400e+05\n",
      "75%      2.033750e+05\n",
      "max      2.373711e+06\n"
     ]
    }
   ],
   "source": [
    "print(\"=== Purchase Behaviour Data Summary ===\")\n",
    "print(behaviour_data.shape)\n",
    "print(behaviour_data.info())\n",
    "print(behaviour_data.describe())"
   ]
  },
  {
   "cell_type": "markdown",
   "id": "ae287f4a-2e9d-46b4-8539-dad096d32347",
   "metadata": {},
   "source": [
    "## 🧼 Step 3: Data Cleaning"
   ]
  },
  {
   "cell_type": "code",
   "execution_count": 7,
   "id": "322ed43d-5591-4eb1-b4d2-f39b34f32946",
   "metadata": {},
   "outputs": [
    {
     "data": {
      "text/plain": [
       "DATE              0\n",
       "STORE_NBR         0\n",
       "LYLTY_CARD_NBR    0\n",
       "TXN_ID            0\n",
       "PROD_NBR          0\n",
       "PROD_NAME         0\n",
       "PROD_QTY          0\n",
       "TOT_SALES         0\n",
       "dtype: int64"
      ]
     },
     "execution_count": 7,
     "metadata": {},
     "output_type": "execute_result"
    }
   ],
   "source": [
    "tran_data.isnull().sum()##didn't find any null"
   ]
  },
  {
   "cell_type": "code",
   "execution_count": 8,
   "id": "a1a4041d-4c55-4770-afff-26943ef3f6fd",
   "metadata": {},
   "outputs": [
    {
     "data": {
      "text/plain": [
       "LYLTY_CARD_NBR      0\n",
       "LIFESTAGE           0\n",
       "PREMIUM_CUSTOMER    0\n",
       "dtype: int64"
      ]
     },
     "execution_count": 8,
     "metadata": {},
     "output_type": "execute_result"
    }
   ],
   "source": [
    "behaviour_data.isnull().sum()##didn't find any null"
   ]
  },
  {
   "cell_type": "markdown",
   "id": "68f72ea6-d2c3-4248-8897-74cf39034f24",
   "metadata": {},
   "source": [
    "## Check and Correct Data Formats"
   ]
  },
  {
   "cell_type": "code",
   "execution_count": 10,
   "id": "3026cb2f-815f-4aa2-a669-2d72a5626db0",
   "metadata": {},
   "outputs": [],
   "source": [
    "# Convert 'Date' to datetime\n",
    "tran_data['DATE'] = pd.to_datetime(tran_data['DATE'], errors='coerce')"
   ]
  },
  {
   "cell_type": "code",
   "execution_count": 11,
   "id": "99a1cd5d-d57a-48eb-8fff-3139bea03504",
   "metadata": {},
   "outputs": [
    {
     "name": "stdout",
     "output_type": "stream",
     "text": [
      "<class 'pandas.core.frame.DataFrame'>\n",
      "RangeIndex: 264836 entries, 0 to 264835\n",
      "Data columns (total 8 columns):\n",
      " #   Column          Non-Null Count   Dtype         \n",
      "---  ------          --------------   -----         \n",
      " 0   DATE            264836 non-null  datetime64[ns]\n",
      " 1   STORE_NBR       264836 non-null  int64         \n",
      " 2   LYLTY_CARD_NBR  264836 non-null  int64         \n",
      " 3   TXN_ID          264836 non-null  int64         \n",
      " 4   PROD_NBR        264836 non-null  int64         \n",
      " 5   PROD_NAME       264836 non-null  object        \n",
      " 6   PROD_QTY        264836 non-null  int64         \n",
      " 7   TOT_SALES       264836 non-null  float64       \n",
      "dtypes: datetime64[ns](1), float64(1), int64(5), object(1)\n",
      "memory usage: 16.2+ MB\n"
     ]
    }
   ],
   "source": [
    "tran_data.info()"
   ]
  },
  {
   "cell_type": "code",
   "execution_count": 22,
   "id": "a89299d0-2ebc-498c-bf07-8bdf5a6cd954",
   "metadata": {},
   "outputs": [
    {
     "data": {
      "text/plain": [
       "DATE              datetime64[ns]\n",
       "STORE_NBR                  int64\n",
       "LYLTY_CARD_NBR             int64\n",
       "TXN_ID                     int64\n",
       "PROD_NBR                   int64\n",
       "PROD_NAME                 object\n",
       "PROD_QTY                   int64\n",
       "TOT_SALES                float64\n",
       "dtype: object"
      ]
     },
     "execution_count": 22,
     "metadata": {},
     "output_type": "execute_result"
    }
   ],
   "source": [
    "tran_data.dtypes"
   ]
  },
  {
   "cell_type": "markdown",
   "id": "51b0bfb8-3f28-4197-a166-4b7073eb9170",
   "metadata": {},
   "source": [
    "## Checking Handling Duplicates"
   ]
  },
  {
   "cell_type": "code",
   "execution_count": 38,
   "id": "1179dfd6-1647-4181-89c6-2be43ba1d1ba",
   "metadata": {},
   "outputs": [
    {
     "data": {
      "text/plain": [
       "1"
      ]
     },
     "execution_count": 38,
     "metadata": {},
     "output_type": "execute_result"
    }
   ],
   "source": [
    "tran_data.duplicated().sum()"
   ]
  },
  {
   "cell_type": "code",
   "execution_count": 36,
   "id": "f83797d4-74b3-4726-87f3-8ca05e9717d4",
   "metadata": {},
   "outputs": [
    {
     "name": "stdout",
     "output_type": "stream",
     "text": [
      "                                DATE  STORE_NBR  LYLTY_CARD_NBR  TXN_ID  \\\n",
      "124845 1970-01-01 00:00:00.000043374        107          107024  108462   \n",
      "\n",
      "        PROD_NBR                               PROD_NAME  PROD_QTY  TOT_SALES  \n",
      "124845        45  Smiths Thinly Cut   Roast Chicken 175g         2        6.0  \n"
     ]
    }
   ],
   "source": [
    "# Rows where any column is duplicated\n",
    "duplicates_all = tran_data[tran_data.duplicated()]\n",
    "print(duplicates_all)\n"
   ]
  },
  {
   "cell_type": "code",
   "execution_count": 42,
   "id": "6d17986d-7366-4f46-81ab-e15b9f08ed6d",
   "metadata": {},
   "outputs": [
    {
     "data": {
      "text/plain": [
       "(264835, 8)"
      ]
     },
     "execution_count": 42,
     "metadata": {},
     "output_type": "execute_result"
    }
   ],
   "source": [
    "tran_data=tran_data.drop_duplicates()\n",
    "tran_data.shape"
   ]
  },
  {
   "cell_type": "code",
   "execution_count": 34,
   "id": "213c80d4-5f01-47ed-811c-1a2250e849de",
   "metadata": {},
   "outputs": [
    {
     "data": {
      "text/plain": [
       "0"
      ]
     },
     "execution_count": 34,
     "metadata": {},
     "output_type": "execute_result"
    }
   ],
   "source": [
    "behaviour_data.duplicated().sum()"
   ]
  },
  {
   "cell_type": "markdown",
   "id": "edd7115b-6a5f-434e-99ee-f35ebba4d230",
   "metadata": {},
   "source": [
    "## Finding outliers and handling them"
   ]
  },
  {
   "cell_type": "code",
   "execution_count": 45,
   "id": "8e74b961-4def-4498-8e2d-dec46e99c6af",
   "metadata": {},
   "outputs": [],
   "source": [
    "def get_outlier(tran_data,col):\n",
    "    q1=tran_data[col].quantile(0.25)\n",
    "    q3=tran_data[col].quantile(0.75)\n",
    "    iqr=q3-q1\n",
    "    ll=q1-(1.5*iqr)\n",
    "    ul=q3+(1.5*iqr)\n",
    "    total_rows=tran_data.shape[0]\n",
    "    filter_rows=tran_data[(tran_data[col]<ll)|(tran_data[col]>ul)].shape[0]\n",
    "    data_loss_percent=(filter_rows/total_rows)*100\n",
    "    print(data_loss_percent)"
   ]
  },
  {
   "cell_type": "code",
   "execution_count": 47,
   "id": "adb9e4fd-e6e5-4007-abea-51d260114f5e",
   "metadata": {},
   "outputs": [
    {
     "name": "stdout",
     "output_type": "stream",
     "text": [
      "0.0\n"
     ]
    }
   ],
   "source": [
    "get_outlier(tran_data,'STORE_NBR')"
   ]
  },
  {
   "cell_type": "code",
   "execution_count": 49,
   "id": "64665adb-1312-4024-8cd6-87fba19a46dd",
   "metadata": {},
   "outputs": [
    {
     "data": {
      "text/plain": [
       "Index(['DATE', 'STORE_NBR', 'LYLTY_CARD_NBR', 'TXN_ID', 'PROD_NBR',\n",
       "       'PROD_NAME', 'PROD_QTY', 'TOT_SALES'],\n",
       "      dtype='object')"
      ]
     },
     "execution_count": 49,
     "metadata": {},
     "output_type": "execute_result"
    }
   ],
   "source": [
    "tran_data.columns"
   ]
  },
  {
   "cell_type": "code",
   "execution_count": 53,
   "id": "70dbf7f2-8b9d-4493-a422-c67c86166c68",
   "metadata": {},
   "outputs": [
    {
     "name": "stdout",
     "output_type": "stream",
     "text": [
      "STORE_NBR\n",
      "0.0\n",
      "----------\n",
      "LYLTY_CARD_NBR\n",
      "0.01661411822455491\n",
      "----------\n",
      "TXN_ID\n",
      "0.0003775935960126116\n",
      "----------\n",
      "PROD_NBR\n",
      "0.0\n",
      "----------\n",
      "PROD_QTY\n",
      "10.873562784375176\n",
      "----------\n",
      "TOT_SALES\n",
      "0.21824909849528953\n",
      "----------\n"
     ]
    }
   ],
   "source": [
    "num_col=['STORE_NBR', 'LYLTY_CARD_NBR', 'TXN_ID', 'PROD_NBR'\n",
    "       ,'PROD_QTY', 'TOT_SALES']\n",
    "for col in num_col:\n",
    "    print(col)\n",
    "    get_outlier(tran_data,col)\n",
    "    print('----------')"
   ]
  },
  {
   "cell_type": "code",
   "execution_count": null,
   "id": "0e1c64b2-eb5e-4ca3-8f79-f0e38e84555c",
   "metadata": {},
   "outputs": [],
   "source": [
    "def get_outlier(tran_data,col):\n",
    "    q1=tran_data[col].quantile(0.25)\n",
    "    q3=tran_data[col].quantile(0.75)\n",
    "    iqr=q3-q1\n",
    "    ll=q1-(1.5*iqr)\n",
    "    ul=q3+(1.5*iqr)\n",
    "    total_rows=tran_data.shape[0]\n",
    "    filter_rows=tran_data[(tran_data[col]<ll)|(tran_data[col]>ul)].shape[0]\n",
    "    data_loss_percent=(filter_rows/total_rows)*100\n",
    "    print(data_loss_percent)"
   ]
  },
  {
   "cell_type": "markdown",
   "id": "0d35a78f-d102-449e-a833-524bc6bd638d",
   "metadata": {},
   "source": [
    "## Removing Outlier"
   ]
  },
  {
   "cell_type": "code",
   "execution_count": 58,
   "id": "a1539e8e-270e-434c-98c3-d35b1538a8cb",
   "metadata": {},
   "outputs": [],
   "source": [
    "def remove_outliers(tran_data,col):\n",
    "    q1 = tran_data[col].quantile(0.25)\n",
    "    q3 = tran_data[col].quantile(0.75)\n",
    "    iqr = q3 - q1\n",
    "    ll = q1 - (1.5*iqr)\n",
    "    ul = q3 + (1.5 * iqr)\n",
    "    \n",
    "    total_rows = tran_data.shape[0]\n",
    "    filter_rows = tran_data[(tran_data[col]<ll) | (tran_data[col]>ul)].shape[0]\n",
    "    \n",
    "    tran_data = tran_data[(tran_data[col]>=ll) & (tran_data[col]<=ul)]\n",
    "    return tran_data"
   ]
  },
  {
   "cell_type": "code",
   "execution_count": 62,
   "id": "c549ade1-cdc5-4c45-b671-d302865c6a51",
   "metadata": {},
   "outputs": [
    {
     "name": "stdout",
     "output_type": "stream",
     "text": [
      "LYLTY_CARD_NBR\n",
      "(264835, 8)\n",
      "(264791, 8)\n",
      "-------------\n",
      "TXN_ID\n",
      "(264791, 8)\n",
      "(264790, 8)\n",
      "-------------\n",
      "PROD_QTY\n",
      "(264790, 8)\n",
      "(236003, 8)\n",
      "-------------\n",
      "TOT_SALES\n",
      "(236003, 8)\n",
      "(236003, 8)\n",
      "-------------\n"
     ]
    }
   ],
   "source": [
    "cols=['LYLTY_CARD_NBR','TXN_ID','PROD_QTY','TOT_SALES']\n",
    "for col in cols:\n",
    "    print(col)\n",
    "    print(tran_data.shape)\n",
    "    tran_data = remove_outliers(tran_data,col)\n",
    "    tran_data.reset_index(drop=True,inplace=True)\n",
    "    print(tran_data.shape)\n",
    "    print('-------------')"
   ]
  },
  {
   "cell_type": "markdown",
   "id": "0c69d3cb-8669-4302-adbb-f0f929e25b92",
   "metadata": {},
   "source": [
    "## 🧪 Step 4: Feature Engineering"
   ]
  },
  {
   "cell_type": "code",
   "execution_count": 65,
   "id": "6f1f6bd5-5d58-4d43-964e-bbc2b3ef838b",
   "metadata": {},
   "outputs": [
    {
     "data": {
      "text/plain": [
       "Index(['DATE', 'STORE_NBR', 'LYLTY_CARD_NBR', 'TXN_ID', 'PROD_NBR',\n",
       "       'PROD_NAME', 'PROD_QTY', 'TOT_SALES'],\n",
       "      dtype='object')"
      ]
     },
     "execution_count": 65,
     "metadata": {},
     "output_type": "execute_result"
    }
   ],
   "source": [
    "tran_data.columns"
   ]
  },
  {
   "cell_type": "code",
   "execution_count": 85,
   "id": "efe93133-99a1-4bad-9285-970a68be6cbf",
   "metadata": {},
   "outputs": [
    {
     "data": {
      "text/html": [
       "<div>\n",
       "<style scoped>\n",
       "    .dataframe tbody tr th:only-of-type {\n",
       "        vertical-align: middle;\n",
       "    }\n",
       "\n",
       "    .dataframe tbody tr th {\n",
       "        vertical-align: top;\n",
       "    }\n",
       "\n",
       "    .dataframe thead th {\n",
       "        text-align: right;\n",
       "    }\n",
       "</style>\n",
       "<table border=\"1\" class=\"dataframe\">\n",
       "  <thead>\n",
       "    <tr style=\"text-align: right;\">\n",
       "      <th></th>\n",
       "      <th>DATE</th>\n",
       "      <th>STORE_NBR</th>\n",
       "      <th>LYLTY_CARD_NBR</th>\n",
       "      <th>TXN_ID</th>\n",
       "      <th>PROD_NBR</th>\n",
       "      <th>PROD_NAME</th>\n",
       "      <th>PROD_QTY</th>\n",
       "      <th>TOT_SALES</th>\n",
       "      <th>DAY_OF_WEEK</th>\n",
       "      <th>PACK_SIZE</th>\n",
       "      <th>BRAND</th>\n",
       "      <th>PRICE_PER_UNIT</th>\n",
       "    </tr>\n",
       "  </thead>\n",
       "  <tbody>\n",
       "    <tr>\n",
       "      <th>0</th>\n",
       "      <td>1970-01-01 00:00:00.000043390</td>\n",
       "      <td>1</td>\n",
       "      <td>1000</td>\n",
       "      <td>1</td>\n",
       "      <td>5</td>\n",
       "      <td>Natural Chip        Compny SeaSalt175g</td>\n",
       "      <td>2</td>\n",
       "      <td>6.0</td>\n",
       "      <td>Thursday</td>\n",
       "      <td>175g</td>\n",
       "      <td>Natural</td>\n",
       "      <td>3.00</td>\n",
       "    </tr>\n",
       "    <tr>\n",
       "      <th>1</th>\n",
       "      <td>1970-01-01 00:00:00.000043605</td>\n",
       "      <td>1</td>\n",
       "      <td>1343</td>\n",
       "      <td>383</td>\n",
       "      <td>61</td>\n",
       "      <td>Smiths Crinkle Cut  Chips Chicken 170g</td>\n",
       "      <td>2</td>\n",
       "      <td>2.9</td>\n",
       "      <td>Thursday</td>\n",
       "      <td>170g</td>\n",
       "      <td>Smiths</td>\n",
       "      <td>1.45</td>\n",
       "    </tr>\n",
       "  </tbody>\n",
       "</table>\n",
       "</div>"
      ],
      "text/plain": [
       "                           DATE  STORE_NBR  LYLTY_CARD_NBR  TXN_ID  PROD_NBR  \\\n",
       "0 1970-01-01 00:00:00.000043390          1            1000       1         5   \n",
       "1 1970-01-01 00:00:00.000043605          1            1343     383        61   \n",
       "\n",
       "                                PROD_NAME  PROD_QTY  TOT_SALES DAY_OF_WEEK  \\\n",
       "0  Natural Chip        Compny SeaSalt175g         2        6.0    Thursday   \n",
       "1  Smiths Crinkle Cut  Chips Chicken 170g         2        2.9    Thursday   \n",
       "\n",
       "  PACK_SIZE    BRAND  PRICE_PER_UNIT  \n",
       "0      175g  Natural            3.00  \n",
       "1      170g   Smiths            1.45  "
      ]
     },
     "execution_count": 85,
     "metadata": {},
     "output_type": "execute_result"
    }
   ],
   "source": [
    "# Extract day of week\n",
    "tran_data['DAY_OF_WEEK'] = tran_data['DATE'].dt.day_name()\n",
    "tran_data.head(2)\n"
   ]
  },
  {
   "cell_type": "code",
   "execution_count": 77,
   "id": "f649a1e0-317d-4a11-8e6c-3c04107da442",
   "metadata": {},
   "outputs": [
    {
     "data": {
      "text/html": [
       "<div>\n",
       "<style scoped>\n",
       "    .dataframe tbody tr th:only-of-type {\n",
       "        vertical-align: middle;\n",
       "    }\n",
       "\n",
       "    .dataframe tbody tr th {\n",
       "        vertical-align: top;\n",
       "    }\n",
       "\n",
       "    .dataframe thead th {\n",
       "        text-align: right;\n",
       "    }\n",
       "</style>\n",
       "<table border=\"1\" class=\"dataframe\">\n",
       "  <thead>\n",
       "    <tr style=\"text-align: right;\">\n",
       "      <th></th>\n",
       "      <th>DATE</th>\n",
       "      <th>STORE_NBR</th>\n",
       "      <th>LYLTY_CARD_NBR</th>\n",
       "      <th>TXN_ID</th>\n",
       "      <th>PROD_NBR</th>\n",
       "      <th>PROD_NAME</th>\n",
       "      <th>PROD_QTY</th>\n",
       "      <th>TOT_SALES</th>\n",
       "      <th>DAY_OF_WEEK</th>\n",
       "      <th>PACK_SIZE</th>\n",
       "    </tr>\n",
       "  </thead>\n",
       "  <tbody>\n",
       "    <tr>\n",
       "      <th>0</th>\n",
       "      <td>1970-01-01 00:00:00.000043390</td>\n",
       "      <td>1</td>\n",
       "      <td>1000</td>\n",
       "      <td>1</td>\n",
       "      <td>5</td>\n",
       "      <td>Natural Chip        Compny SeaSalt175g</td>\n",
       "      <td>2</td>\n",
       "      <td>6.0</td>\n",
       "      <td>Thursday</td>\n",
       "      <td>175g</td>\n",
       "    </tr>\n",
       "    <tr>\n",
       "      <th>1</th>\n",
       "      <td>1970-01-01 00:00:00.000043605</td>\n",
       "      <td>1</td>\n",
       "      <td>1343</td>\n",
       "      <td>383</td>\n",
       "      <td>61</td>\n",
       "      <td>Smiths Crinkle Cut  Chips Chicken 170g</td>\n",
       "      <td>2</td>\n",
       "      <td>2.9</td>\n",
       "      <td>Thursday</td>\n",
       "      <td>170g</td>\n",
       "    </tr>\n",
       "  </tbody>\n",
       "</table>\n",
       "</div>"
      ],
      "text/plain": [
       "                           DATE  STORE_NBR  LYLTY_CARD_NBR  TXN_ID  PROD_NBR  \\\n",
       "0 1970-01-01 00:00:00.000043390          1            1000       1         5   \n",
       "1 1970-01-01 00:00:00.000043605          1            1343     383        61   \n",
       "\n",
       "                                PROD_NAME  PROD_QTY  TOT_SALES DAY_OF_WEEK  \\\n",
       "0  Natural Chip        Compny SeaSalt175g         2        6.0    Thursday   \n",
       "1  Smiths Crinkle Cut  Chips Chicken 170g         2        2.9    Thursday   \n",
       "\n",
       "  PACK_SIZE  \n",
       "0      175g  \n",
       "1      170g  "
      ]
     },
     "execution_count": 77,
     "metadata": {},
     "output_type": "execute_result"
    }
   ],
   "source": [
    "##  Extract pack size and keep it as a string (e.g., \"175g\")\n",
    "tran_data['PACK_SIZE'] = tran_data['PROD_NAME'].str.extract(r'(\\d+[gG])')\n",
    "tran_data.head(2)"
   ]
  },
  {
   "cell_type": "code",
   "execution_count": 79,
   "id": "334efa2c-d23d-4d0b-b28a-da7b3c988f1b",
   "metadata": {},
   "outputs": [
    {
     "data": {
      "text/html": [
       "<div>\n",
       "<style scoped>\n",
       "    .dataframe tbody tr th:only-of-type {\n",
       "        vertical-align: middle;\n",
       "    }\n",
       "\n",
       "    .dataframe tbody tr th {\n",
       "        vertical-align: top;\n",
       "    }\n",
       "\n",
       "    .dataframe thead th {\n",
       "        text-align: right;\n",
       "    }\n",
       "</style>\n",
       "<table border=\"1\" class=\"dataframe\">\n",
       "  <thead>\n",
       "    <tr style=\"text-align: right;\">\n",
       "      <th></th>\n",
       "      <th>DATE</th>\n",
       "      <th>STORE_NBR</th>\n",
       "      <th>LYLTY_CARD_NBR</th>\n",
       "      <th>TXN_ID</th>\n",
       "      <th>PROD_NBR</th>\n",
       "      <th>PROD_NAME</th>\n",
       "      <th>PROD_QTY</th>\n",
       "      <th>TOT_SALES</th>\n",
       "      <th>DAY_OF_WEEK</th>\n",
       "      <th>PACK_SIZE</th>\n",
       "      <th>BRAND</th>\n",
       "    </tr>\n",
       "  </thead>\n",
       "  <tbody>\n",
       "    <tr>\n",
       "      <th>0</th>\n",
       "      <td>1970-01-01 00:00:00.000043390</td>\n",
       "      <td>1</td>\n",
       "      <td>1000</td>\n",
       "      <td>1</td>\n",
       "      <td>5</td>\n",
       "      <td>Natural Chip        Compny SeaSalt175g</td>\n",
       "      <td>2</td>\n",
       "      <td>6.0</td>\n",
       "      <td>Thursday</td>\n",
       "      <td>175g</td>\n",
       "      <td>Natural</td>\n",
       "    </tr>\n",
       "    <tr>\n",
       "      <th>1</th>\n",
       "      <td>1970-01-01 00:00:00.000043605</td>\n",
       "      <td>1</td>\n",
       "      <td>1343</td>\n",
       "      <td>383</td>\n",
       "      <td>61</td>\n",
       "      <td>Smiths Crinkle Cut  Chips Chicken 170g</td>\n",
       "      <td>2</td>\n",
       "      <td>2.9</td>\n",
       "      <td>Thursday</td>\n",
       "      <td>170g</td>\n",
       "      <td>Smiths</td>\n",
       "    </tr>\n",
       "  </tbody>\n",
       "</table>\n",
       "</div>"
      ],
      "text/plain": [
       "                           DATE  STORE_NBR  LYLTY_CARD_NBR  TXN_ID  PROD_NBR  \\\n",
       "0 1970-01-01 00:00:00.000043390          1            1000       1         5   \n",
       "1 1970-01-01 00:00:00.000043605          1            1343     383        61   \n",
       "\n",
       "                                PROD_NAME  PROD_QTY  TOT_SALES DAY_OF_WEEK  \\\n",
       "0  Natural Chip        Compny SeaSalt175g         2        6.0    Thursday   \n",
       "1  Smiths Crinkle Cut  Chips Chicken 170g         2        2.9    Thursday   \n",
       "\n",
       "  PACK_SIZE    BRAND  \n",
       "0      175g  Natural  \n",
       "1      170g   Smiths  "
      ]
     },
     "execution_count": 79,
     "metadata": {},
     "output_type": "execute_result"
    }
   ],
   "source": [
    "#  Extract Brand Name (first word of product name)\n",
    "tran_data['BRAND'] = tran_data['PROD_NAME'].str.split().str[0]\n",
    "tran_data.head(2)"
   ]
  },
  {
   "cell_type": "code",
   "execution_count": 81,
   "id": "4a4d8391-f126-4ab2-96cc-6644a76f42d7",
   "metadata": {},
   "outputs": [],
   "source": [
    "#  Create Spend per Unit\n",
    "tran_data['PRICE_PER_UNIT'] = tran_data['TOT_SALES'] / tran_data['PROD_QTY']"
   ]
  },
  {
   "cell_type": "code",
   "execution_count": 83,
   "id": "5b5a1e1c-bb1d-4e93-8437-0ce3407fa824",
   "metadata": {},
   "outputs": [
    {
     "data": {
      "text/html": [
       "<div>\n",
       "<style scoped>\n",
       "    .dataframe tbody tr th:only-of-type {\n",
       "        vertical-align: middle;\n",
       "    }\n",
       "\n",
       "    .dataframe tbody tr th {\n",
       "        vertical-align: top;\n",
       "    }\n",
       "\n",
       "    .dataframe thead th {\n",
       "        text-align: right;\n",
       "    }\n",
       "</style>\n",
       "<table border=\"1\" class=\"dataframe\">\n",
       "  <thead>\n",
       "    <tr style=\"text-align: right;\">\n",
       "      <th></th>\n",
       "      <th>DATE</th>\n",
       "      <th>STORE_NBR</th>\n",
       "      <th>LYLTY_CARD_NBR</th>\n",
       "      <th>TXN_ID</th>\n",
       "      <th>PROD_NBR</th>\n",
       "      <th>PROD_NAME</th>\n",
       "      <th>PROD_QTY</th>\n",
       "      <th>TOT_SALES</th>\n",
       "      <th>DAY_OF_WEEK</th>\n",
       "      <th>PACK_SIZE</th>\n",
       "      <th>BRAND</th>\n",
       "      <th>PRICE_PER_UNIT</th>\n",
       "    </tr>\n",
       "  </thead>\n",
       "  <tbody>\n",
       "    <tr>\n",
       "      <th>0</th>\n",
       "      <td>1970-01-01 00:00:00.000043390</td>\n",
       "      <td>1</td>\n",
       "      <td>1000</td>\n",
       "      <td>1</td>\n",
       "      <td>5</td>\n",
       "      <td>Natural Chip        Compny SeaSalt175g</td>\n",
       "      <td>2</td>\n",
       "      <td>6.0</td>\n",
       "      <td>Thursday</td>\n",
       "      <td>175g</td>\n",
       "      <td>Natural</td>\n",
       "      <td>3.00</td>\n",
       "    </tr>\n",
       "    <tr>\n",
       "      <th>1</th>\n",
       "      <td>1970-01-01 00:00:00.000043605</td>\n",
       "      <td>1</td>\n",
       "      <td>1343</td>\n",
       "      <td>383</td>\n",
       "      <td>61</td>\n",
       "      <td>Smiths Crinkle Cut  Chips Chicken 170g</td>\n",
       "      <td>2</td>\n",
       "      <td>2.9</td>\n",
       "      <td>Thursday</td>\n",
       "      <td>170g</td>\n",
       "      <td>Smiths</td>\n",
       "      <td>1.45</td>\n",
       "    </tr>\n",
       "    <tr>\n",
       "      <th>2</th>\n",
       "      <td>1970-01-01 00:00:00.000043330</td>\n",
       "      <td>7</td>\n",
       "      <td>7150</td>\n",
       "      <td>6900</td>\n",
       "      <td>52</td>\n",
       "      <td>Grain Waves Sour    Cream&amp;Chives 210G</td>\n",
       "      <td>2</td>\n",
       "      <td>7.2</td>\n",
       "      <td>Thursday</td>\n",
       "      <td>210G</td>\n",
       "      <td>Grain</td>\n",
       "      <td>3.60</td>\n",
       "    </tr>\n",
       "    <tr>\n",
       "      <th>3</th>\n",
       "      <td>1970-01-01 00:00:00.000043603</td>\n",
       "      <td>9</td>\n",
       "      <td>9208</td>\n",
       "      <td>8634</td>\n",
       "      <td>15</td>\n",
       "      <td>Twisties Cheese     270g</td>\n",
       "      <td>2</td>\n",
       "      <td>9.2</td>\n",
       "      <td>Thursday</td>\n",
       "      <td>270g</td>\n",
       "      <td>Twisties</td>\n",
       "      <td>4.60</td>\n",
       "    </tr>\n",
       "    <tr>\n",
       "      <th>4</th>\n",
       "      <td>1970-01-01 00:00:00.000043327</td>\n",
       "      <td>38</td>\n",
       "      <td>38142</td>\n",
       "      <td>34181</td>\n",
       "      <td>108</td>\n",
       "      <td>Kettle Tortilla ChpsHny&amp;Jlpno Chili 150g</td>\n",
       "      <td>2</td>\n",
       "      <td>9.2</td>\n",
       "      <td>Thursday</td>\n",
       "      <td>150g</td>\n",
       "      <td>Kettle</td>\n",
       "      <td>4.60</td>\n",
       "    </tr>\n",
       "  </tbody>\n",
       "</table>\n",
       "</div>"
      ],
      "text/plain": [
       "                           DATE  STORE_NBR  LYLTY_CARD_NBR  TXN_ID  PROD_NBR  \\\n",
       "0 1970-01-01 00:00:00.000043390          1            1000       1         5   \n",
       "1 1970-01-01 00:00:00.000043605          1            1343     383        61   \n",
       "2 1970-01-01 00:00:00.000043330          7            7150    6900        52   \n",
       "3 1970-01-01 00:00:00.000043603          9            9208    8634        15   \n",
       "4 1970-01-01 00:00:00.000043327         38           38142   34181       108   \n",
       "\n",
       "                                  PROD_NAME  PROD_QTY  TOT_SALES DAY_OF_WEEK  \\\n",
       "0    Natural Chip        Compny SeaSalt175g         2        6.0    Thursday   \n",
       "1    Smiths Crinkle Cut  Chips Chicken 170g         2        2.9    Thursday   \n",
       "2     Grain Waves Sour    Cream&Chives 210G         2        7.2    Thursday   \n",
       "3                  Twisties Cheese     270g         2        9.2    Thursday   \n",
       "4  Kettle Tortilla ChpsHny&Jlpno Chili 150g         2        9.2    Thursday   \n",
       "\n",
       "  PACK_SIZE     BRAND  PRICE_PER_UNIT  \n",
       "0      175g   Natural            3.00  \n",
       "1      170g    Smiths            1.45  \n",
       "2      210G     Grain            3.60  \n",
       "3      270g  Twisties            4.60  \n",
       "4      150g    Kettle            4.60  "
      ]
     },
     "execution_count": 83,
     "metadata": {},
     "output_type": "execute_result"
    }
   ],
   "source": [
    "tran_data.head()"
   ]
  },
  {
   "cell_type": "code",
   "execution_count": 91,
   "id": "f1f71456-e456-4063-8df8-2ec7cb32ddf1",
   "metadata": {},
   "outputs": [
    {
     "data": {
      "text/html": [
       "<div>\n",
       "<style scoped>\n",
       "    .dataframe tbody tr th:only-of-type {\n",
       "        vertical-align: middle;\n",
       "    }\n",
       "\n",
       "    .dataframe tbody tr th {\n",
       "        vertical-align: top;\n",
       "    }\n",
       "\n",
       "    .dataframe thead th {\n",
       "        text-align: right;\n",
       "    }\n",
       "</style>\n",
       "<table border=\"1\" class=\"dataframe\">\n",
       "  <thead>\n",
       "    <tr style=\"text-align: right;\">\n",
       "      <th></th>\n",
       "      <th>DATE</th>\n",
       "      <th>STORE_NBR</th>\n",
       "      <th>LYLTY_CARD_NBR</th>\n",
       "      <th>TXN_ID</th>\n",
       "      <th>PROD_NBR</th>\n",
       "      <th>PROD_NAME</th>\n",
       "      <th>PROD_QTY</th>\n",
       "      <th>TOT_SALES</th>\n",
       "      <th>DAY_OF_WEEK</th>\n",
       "      <th>PACK_SIZE</th>\n",
       "      <th>BRAND</th>\n",
       "      <th>PRICE_PER_UNIT</th>\n",
       "      <th>LIFESTAGE</th>\n",
       "      <th>PREMIUM_CUSTOMER</th>\n",
       "    </tr>\n",
       "  </thead>\n",
       "  <tbody>\n",
       "    <tr>\n",
       "      <th>0</th>\n",
       "      <td>1970-01-01 00:00:00.000043390</td>\n",
       "      <td>1</td>\n",
       "      <td>1000</td>\n",
       "      <td>1</td>\n",
       "      <td>5</td>\n",
       "      <td>Natural Chip        Compny SeaSalt175g</td>\n",
       "      <td>2</td>\n",
       "      <td>6.0</td>\n",
       "      <td>Thursday</td>\n",
       "      <td>175g</td>\n",
       "      <td>Natural</td>\n",
       "      <td>3.00</td>\n",
       "      <td>YOUNG SINGLES/COUPLES</td>\n",
       "      <td>Premium</td>\n",
       "    </tr>\n",
       "    <tr>\n",
       "      <th>1</th>\n",
       "      <td>1970-01-01 00:00:00.000043605</td>\n",
       "      <td>1</td>\n",
       "      <td>1343</td>\n",
       "      <td>383</td>\n",
       "      <td>61</td>\n",
       "      <td>Smiths Crinkle Cut  Chips Chicken 170g</td>\n",
       "      <td>2</td>\n",
       "      <td>2.9</td>\n",
       "      <td>Thursday</td>\n",
       "      <td>170g</td>\n",
       "      <td>Smiths</td>\n",
       "      <td>1.45</td>\n",
       "      <td>MIDAGE SINGLES/COUPLES</td>\n",
       "      <td>Budget</td>\n",
       "    </tr>\n",
       "    <tr>\n",
       "      <th>2</th>\n",
       "      <td>1970-01-01 00:00:00.000043330</td>\n",
       "      <td>7</td>\n",
       "      <td>7150</td>\n",
       "      <td>6900</td>\n",
       "      <td>52</td>\n",
       "      <td>Grain Waves Sour    Cream&amp;Chives 210G</td>\n",
       "      <td>2</td>\n",
       "      <td>7.2</td>\n",
       "      <td>Thursday</td>\n",
       "      <td>210G</td>\n",
       "      <td>Grain</td>\n",
       "      <td>3.60</td>\n",
       "      <td>MIDAGE SINGLES/COUPLES</td>\n",
       "      <td>Budget</td>\n",
       "    </tr>\n",
       "    <tr>\n",
       "      <th>3</th>\n",
       "      <td>1970-01-01 00:00:00.000043603</td>\n",
       "      <td>9</td>\n",
       "      <td>9208</td>\n",
       "      <td>8634</td>\n",
       "      <td>15</td>\n",
       "      <td>Twisties Cheese     270g</td>\n",
       "      <td>2</td>\n",
       "      <td>9.2</td>\n",
       "      <td>Thursday</td>\n",
       "      <td>270g</td>\n",
       "      <td>Twisties</td>\n",
       "      <td>4.60</td>\n",
       "      <td>MIDAGE SINGLES/COUPLES</td>\n",
       "      <td>Budget</td>\n",
       "    </tr>\n",
       "    <tr>\n",
       "      <th>4</th>\n",
       "      <td>1970-01-01 00:00:00.000043327</td>\n",
       "      <td>38</td>\n",
       "      <td>38142</td>\n",
       "      <td>34181</td>\n",
       "      <td>108</td>\n",
       "      <td>Kettle Tortilla ChpsHny&amp;Jlpno Chili 150g</td>\n",
       "      <td>2</td>\n",
       "      <td>9.2</td>\n",
       "      <td>Thursday</td>\n",
       "      <td>150g</td>\n",
       "      <td>Kettle</td>\n",
       "      <td>4.60</td>\n",
       "      <td>MIDAGE SINGLES/COUPLES</td>\n",
       "      <td>Budget</td>\n",
       "    </tr>\n",
       "  </tbody>\n",
       "</table>\n",
       "</div>"
      ],
      "text/plain": [
       "                           DATE  STORE_NBR  LYLTY_CARD_NBR  TXN_ID  PROD_NBR  \\\n",
       "0 1970-01-01 00:00:00.000043390          1            1000       1         5   \n",
       "1 1970-01-01 00:00:00.000043605          1            1343     383        61   \n",
       "2 1970-01-01 00:00:00.000043330          7            7150    6900        52   \n",
       "3 1970-01-01 00:00:00.000043603          9            9208    8634        15   \n",
       "4 1970-01-01 00:00:00.000043327         38           38142   34181       108   \n",
       "\n",
       "                                  PROD_NAME  PROD_QTY  TOT_SALES DAY_OF_WEEK  \\\n",
       "0    Natural Chip        Compny SeaSalt175g         2        6.0    Thursday   \n",
       "1    Smiths Crinkle Cut  Chips Chicken 170g         2        2.9    Thursday   \n",
       "2     Grain Waves Sour    Cream&Chives 210G         2        7.2    Thursday   \n",
       "3                  Twisties Cheese     270g         2        9.2    Thursday   \n",
       "4  Kettle Tortilla ChpsHny&Jlpno Chili 150g         2        9.2    Thursday   \n",
       "\n",
       "  PACK_SIZE     BRAND  PRICE_PER_UNIT               LIFESTAGE PREMIUM_CUSTOMER  \n",
       "0      175g   Natural            3.00   YOUNG SINGLES/COUPLES          Premium  \n",
       "1      170g    Smiths            1.45  MIDAGE SINGLES/COUPLES           Budget  \n",
       "2      210G     Grain            3.60  MIDAGE SINGLES/COUPLES           Budget  \n",
       "3      270g  Twisties            4.60  MIDAGE SINGLES/COUPLES           Budget  \n",
       "4      150g    Kettle            4.60  MIDAGE SINGLES/COUPLES           Budget  "
      ]
     },
     "execution_count": 91,
     "metadata": {},
     "output_type": "execute_result"
    }
   ],
   "source": [
    "# Merge on customer ID column (assumed LYLTY_CARD_NBR is common)\n",
    "final_df = tran_data.merge(behaviour_data, on='LYLTY_CARD_NBR', how='inner')\n",
    "\n",
    "# Preview merged data\n",
    "final_df.head()"
   ]
  },
  {
   "cell_type": "code",
   "execution_count": 95,
   "id": "b59e0ef0-26cf-4a8d-a5c5-1eb5e02d8ef1",
   "metadata": {},
   "outputs": [
    {
     "data": {
      "text/plain": [
       "(236003, 14)"
      ]
     },
     "execution_count": 95,
     "metadata": {},
     "output_type": "execute_result"
    }
   ],
   "source": [
    "final_df.shape"
   ]
  },
  {
   "cell_type": "code",
   "execution_count": 98,
   "id": "ce7c0a48-9933-4e6d-965f-3efd1656cb1b",
   "metadata": {},
   "outputs": [
    {
     "data": {
      "text/plain": [
       "DATE                datetime64[ns]\n",
       "STORE_NBR                    int64\n",
       "LYLTY_CARD_NBR               int64\n",
       "TXN_ID                       int64\n",
       "PROD_NBR                     int64\n",
       "PROD_NAME                   object\n",
       "PROD_QTY                     int64\n",
       "TOT_SALES                  float64\n",
       "DAY_OF_WEEK                 object\n",
       "PACK_SIZE                   object\n",
       "BRAND                       object\n",
       "PRICE_PER_UNIT             float64\n",
       "LIFESTAGE                   object\n",
       "PREMIUM_CUSTOMER            object\n",
       "dtype: object"
      ]
     },
     "execution_count": 98,
     "metadata": {},
     "output_type": "execute_result"
    }
   ],
   "source": [
    "final_df.dtypes"
   ]
  },
  {
   "cell_type": "markdown",
   "id": "46993b0f-dbe3-4898-8c64-7addc145f0e3",
   "metadata": {},
   "source": [
    "## 📊 Step 5: Exploratory Data Analysis (EDA)"
   ]
  },
  {
   "cell_type": "markdown",
   "id": "648d19b6-a594-44b5-9439-b03861780d3d",
   "metadata": {},
   "source": [
    "## Customer-Level Metrics"
   ]
  },
  {
   "cell_type": "code",
   "execution_count": 104,
   "id": "14ae1ffe-040c-443f-b1d1-5936efac498c",
   "metadata": {},
   "outputs": [
    {
     "name": "stdout",
     "output_type": "stream",
     "text": [
      "   LYLTY_CARD_NBR  Total_Spend  Total_Quantity  Num_Transactions Top_Brand  \\\n",
      "0            1000          6.0               2                 1   Natural   \n",
      "1            1010          8.8               2                 1   Doritos   \n",
      "2            1011          6.2               2                 1   GrnWves   \n",
      "3            1013          4.2               2                 1       CCs   \n",
      "4            1025          6.0               2                 1    Smiths   \n",
      "\n",
      "  Preferred_Day  Avg_Pack_Size  \n",
      "0      Thursday          175.0  \n",
      "1      Thursday          170.0  \n",
      "2      Thursday          180.0  \n",
      "3      Thursday          175.0  \n",
      "4      Thursday          175.0  \n"
     ]
    }
   ],
   "source": [
    "# Ensure pack size is numeric for averaging\n",
    "final_df['PACK_SIZE_NUM'] = final_df['PACK_SIZE'].str.extract(r'(\\d+)').astype(float)\n",
    "\n",
    "# Group by customer\n",
    "customer_metrics = final_df.groupby('LYLTY_CARD_NBR').agg({\n",
    "    'TOT_SALES': 'sum',\n",
    "    'PROD_QTY': 'sum',\n",
    "    'TXN_ID': 'nunique',\n",
    "    'BRAND': lambda x: x.mode()[0] if not x.mode().empty else None,\n",
    "    'DAY_OF_WEEK': lambda x: x.mode()[0] if not x.mode().empty else None,\n",
    "    'PACK_SIZE_NUM': 'mean'\n",
    "}).rename(columns={\n",
    "    'TOT_SALES': 'Total_Spend',\n",
    "    'PROD_QTY': 'Total_Quantity',\n",
    "    'TXN_ID': 'Num_Transactions',\n",
    "    'BRAND': 'Top_Brand',\n",
    "    'DAY_OF_WEEK': 'Preferred_Day',\n",
    "    'PACK_SIZE_NUM': 'Avg_Pack_Size'\n",
    "}).reset_index()\n",
    "\n",
    "# View result\n",
    "print(customer_metrics.head())\n"
   ]
  },
  {
   "cell_type": "markdown",
   "id": "0c52d538-6150-4aff-874a-04ee8e496c6b",
   "metadata": {},
   "source": [
    "## Visualization"
   ]
  },
  {
   "cell_type": "markdown",
   "id": "00ddc117-696f-4f27-a01b-b07b95ce512b",
   "metadata": {},
   "source": [
    "## Total spent by brand"
   ]
  },
  {
   "cell_type": "code",
   "execution_count": 128,
   "id": "258f475e-6d17-41f8-89da-5f5c3fdb2193",
   "metadata": {},
   "outputs": [
    {
     "data": {
      "image/png": "[encoded data removed]",
      "text/plain": [
       "<Figure size 1000x500 with 1 Axes>"
      ]
     },
     "metadata": {},
     "output_type": "display_data"
    }
   ],
   "source": [
    "\n",
    "plt.figure(figsize=(10, 5))\n",
    "brand_sales = final_df.groupby('BRAND')['TOT_SALES'].sum().sort_values(ascending=False)\n",
    "sns.barplot(x=brand_sales.index, y=brand_sales.values, palette=\"viridis\")\n",
    "plt.xticks(rotation=45)\n",
    "plt.title(\"Total Spend by Brand\")\n",
    "plt.xlabel(\"Brand\")\n",
    "plt.ylabel(\"Total Spend (AUD)\")\n",
    "plt.tight_layout()\n",
    "plt.show()"
   ]
  },
  {
   "cell_type": "markdown",
   "id": "ccf28e1f-f61e-4da3-856a-d20336a3730f",
   "metadata": {},
   "source": [
    "## Transactions by Day of Week"
   ]
  },
  {
   "cell_type": "code",
   "execution_count": 125,
   "id": "01f586bd-6276-4e21-81f5-a5ba27e6f86c",
   "metadata": {},
   "outputs": [
    {
     "data": {
      "image/png": "[encoded data removed]",
      "text/plain": [
       "<Figure size 800x400 with 1 Axes>"
      ]
     },
     "metadata": {},
     "output_type": "display_data"
    }
   ],
   "source": [
    "plt.figure(figsize=(8, 4))\n",
    "sns.countplot(data=final_df, x='DAY_OF_WEEK', order=['Monday', 'Tuesday', 'Wednesday', 'Thursday', 'Friday', 'Saturday', 'Sunday'], palette=\"coolwarm\")\n",
    "plt.title(\"Transactions by Day of Week\")\n",
    "plt.xticks(rotation=45)\n",
    "plt.tight_layout()\n",
    "plt.show()\n"
   ]
  },
  {
   "cell_type": "code",
   "execution_count": 135,
   "id": "3c50f8bb-a278-4630-a4f9-6def32af8772",
   "metadata": {},
   "outputs": [],
   "source": [
    "# Save  DataFrame to a CSV file\n",
    "final_df.to_csv(\"final_chip_data.csv\", index=False)\n"
   ]
  },
  {
   "cell_type": "markdown",
   "id": "2d4f4514-92ad-4eff-9c45-42d27cbb6807",
   "metadata": {},
   "source": [
    "## 💡 Step 5: Final Insights & Visual Summary"
   ]
  },
  {
   "cell_type": "markdown",
   "id": "3ebaf100-ae53-4274-8ac7-b3408fc216a9",
   "metadata": {},
   "source": [
    "### 🔹 1. Top Contributing Brands\n",
    "- Brands like **Smiths**, **Kettle**, and **Doritos** contribute the highest to overall chip sales.\n",
    "- These brands are likely dominant due to wide availability and customer loyalty.\n",
    "\n",
    "### 🔹 2. Popular Purchase Days\n",
    "- Most purchases occur on **Friday**, **Saturday**, and **Sunday**.\n",
    "- These peaks suggest that chip buying is strongly linked to **weekend shopping and leisure** activities.\n",
    "\n",
    "### 🔹 3. Pack Size Preference\n",
    "- The most popular pack size is **175g**, followed by **150g** and **200g**.\n",
    "- This reflects a customer tendency toward **medium-sized packs**, possibly balancing price and portion.\n",
    "\n",
    "### 🔹 4. Price vs Quantity Behavior\n",
    "- There’s consistency in the ratio between `TOT_SALES` and `PROD_QTY`, showing that **per-unit pricing is stable** across most transactions.\n",
    "- Outlier handling confirmed that extreme bulk purchases or high-cost anomalies were rare.\n",
    "\n",
    "### 🔹 5. High Loyalty Customer Patterns\n",
    "- Though your behavior data doesn't include segments like “Budget” or “Premium,” customer IDs with frequent transactions suggest the presence of **loyal buyers**.\n",
    "- Some customers appear in multiple transactions across weeks, showing **repeat behavior**.\n"
   ]
  },
  {
   "cell_type": "markdown",
   "id": "f627f1b5-9199-48b1-9c31-394012e12706",
   "metadata": {},
   "source": [
    "## 📌 STRATEGIC RECOMMENDATION"
   ]
  },
  {
   "cell_type": "markdown",
   "id": "81e42e53-6e86-48ae-bb79-4ae510b06371",
   "metadata": {},
   "source": [
    "\n",
    "\n",
    "### 📅 1. Weekend Promotion Strategy\n",
    "- Launch chip discounts or combo offers on **Fridays to Sundays**, when footfall and spending are highest.\n",
    "- Target impulse buyers using **in-store displays or digital weekend-only offers**.\n",
    "\n",
    "### 🧃 2. Focus on Popular Pack Sizes\n",
    "- Promote **175g and 150g** packs through front-shelf placement and price bundles.\n",
    "- Avoid overstocking large (>200g) or very small (<100g) sizes which are less frequently purchased.\n",
    "\n",
    "### 🛒 3. Leverage Brand Strength\n",
    "- Partner with **Smiths**, **Doritos**, and **Kettle** for:\n",
    "  - Co-branded ads\n",
    "  - Loyalty point accelerators\n",
    "  - First-to-market new flavor promotions\n",
    "\n",
    "### 🧠 4. Target Repeat Buyers\n",
    "- Identify high-frequency customer IDs and offer personalized promotions via loyalty programs.\n",
    "- Encourage bulk-buy discounts for multi-pack purchases to boost basket size.\n",
    "\n",
    "### 📈 5. Run A/B Tests\n",
    "- Trial promotions for different pack sizes or days of the week to **validate demand elasticity**.\n",
    "- Use sales uplift to fine-tune future campaign planning.\n"
   ]
  },
  {
   "cell_type": "code",
   "execution_count": null,
   "id": "fddec928-7d72-4fd0-a0d3-842863e84061",
   "metadata": {},
   "outputs": [],
   "source": []
  }
 ],
 "metadata": {
  "kernelspec": {
   "display_name": "Python [conda env:base] *",
   "language": "python",
   "name": "conda-base-py"
  },
  "language_info": {
   "codemirror_mode": {
    "name": "ipython",
    "version": 3
   },
   "file_extension": ".py",
   "mimetype": "text/x-python",
   "name": "python",
   "nbconvert_exporter": "python",
   "pygments_lexer": "ipython3",
   "version": "3.12.7"
  }
 },
 "nbformat": 4,
 "nbformat_minor": 5
}
